{
 "cells": [
  {
   "cell_type": "code",
   "execution_count": 1,
   "metadata": {},
   "outputs": [
    {
     "data": {
      "text/html": [
       "<div style='background:#ffecb3;padding:1em;border-left:2px solid #ff6d00'><b>Configuration is not found!</b> Default configuration will be used: <pre>{\"module\":1,\"target\":1,\"moduleResolution\":2,\"esModuleInterop\":true}</pre></div>"
      ]
     },
     "execution_count": 1,
     "metadata": {},
     "output_type": "execute_result"
    }
   ],
   "source": [
    "// Etat de la \n",
    "let state = {\n",
    "  'a': 4,\n",
    "  'b': 5\n",
    "};\n",
    "\n",
    "let list = [\n",
    "  ['q_1', {key:'a', val:3}],\n",
    "  ['q_2', {key:'a', val:4}]\n",
    "];\n"
   ]
  },
  {
   "cell_type": "code",
   "execution_count": 2,
   "metadata": {},
   "outputs": [
    {
     "data": {
      "text/plain": [
       "undefined"
      ]
     },
     "execution_count": 2,
     "metadata": {},
     "output_type": "execute_result"
    }
   ],
   "source": [
    "function get_next(list, state) {\n",
    "  let out = undefined;\n",
    "  \n",
    "  list.forEach((opt) => {\n",
    "    console.log(opt)\n",
    "    let next = opt[0];\n",
    "    let cond = opt[1];\n",
    "    if (state[cond.key] == cond.val) {\n",
    "        out = next;\n",
    "    }\n",
    "  })\n",
    "  return out;\n",
    "}"
   ]
  },
  {
   "cell_type": "code",
   "execution_count": 3,
   "metadata": {},
   "outputs": [
    {
     "name": "stdout",
     "output_type": "stream",
     "text": [
      "[ 'q_1', { key: 'a', val: 3 } ]\n",
      "[ 'q_2', { key: 'a', val: 4 } ]\n"
     ]
    },
    {
     "data": {
      "text/plain": [
       "'q_2'"
      ]
     },
     "execution_count": 3,
     "metadata": {},
     "output_type": "execute_result"
    }
   ],
   "source": [
    "get_next(list, state);"
   ]
  }
 ],
 "metadata": {
  "kernelspec": {
   "display_name": "Typescript 3.7",
   "language": "typescript",
   "name": "typescript"
  },
  "language_info": {
   "file_extension": ".ts",
   "mimetype": "application/x-typescript",
   "name": "typescript",
   "version": "3.7.5"
  }
 },
 "nbformat": 4,
 "nbformat_minor": 4
}
