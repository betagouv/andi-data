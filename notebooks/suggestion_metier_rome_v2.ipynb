{
 "cells": [
  {
   "cell_type": "markdown",
   "metadata": {},
   "source": [
    "## Nouvelle suggestion métier / rome\n",
    "- utilisant la lib whoosh\n",
    "- stemming, accent folding\n",
    "- fuzzy search, ...\n",
    "\n",
    "#### idées\n",
    "- higlighting du matching ?\n",
    "- query expansion / more like this ?"
   ]
  },
  {
   "cell_type": "code",
   "execution_count": 70,
   "metadata": {},
   "outputs": [],
   "source": [
    "import os\n",
    "import sys\n",
    "import logging\n",
    "from whoosh.index import create_in, open_dir\n",
    "from whoosh.fields import Schema, TEXT, STORED, KEYWORD\n",
    "from whoosh.analysis import CharsetFilter, StemmingAnalyzer\n",
    "from whoosh.support.charset import accent_map\n",
    "from whoosh.qparser import QueryParser, FuzzyTermPlugin\n",
    "from whoosh.query import FuzzyTerm\n",
    "from whoosh import scoring\n",
    "\n",
    "logger = logging.getLogger()\n",
    "logger.setLevel(logging.DEBUG)\n",
    "\n",
    "def createTable(name):\n",
    "    analyzer = StemmingAnalyzer() | CharsetFilter(accent_map)\n",
    "    schema = Schema(\n",
    "        label=TEXT(stored=True, analyzer=analyzer),\n",
    "        rome=STORED,\n",
    "        source=KEYWORD\n",
    "        )\n",
    "    if not os.path.exists(name):\n",
    "        os.mkdir(name)\n",
    "    \n",
    "    idx = create_in(name, schema);\n",
    "    return name\n",
    "\n",
    "\n",
    "def writeRecord(idx, **fields):\n",
    "    writer = idx.writer();\n",
    "    writer.add_document(**fields);\n",
    "    \n",
    "def writeDataframe(idx_name, df):\n",
    "    # convert dataframe to row of stuff\n",
    "    idx = open_dir(idx_name)\n",
    "    writer = idx.writer()\n",
    "    try:\n",
    "        logger.info(\"Writing dataframe to index\")\n",
    "        for _, row in df.iterrows():\n",
    "            print(row.to_dict())\n",
    "            writer.add_document(**row.to_dict())\n",
    "        # write row of stuff to index\n",
    "        writer.commit()\n",
    "        logger.info(\"Done writing dataframe to index\")\n",
    "        print('done')\n",
    "    except:\n",
    "        writer.cancel()\n",
    "        raise RuntimeError('Failed writing')\n",
    "        \n",
    "def get_index(idx_name):\n",
    "    return open_dir(idx_name)\n",
    "\n",
    "class FuzzyConfig(FuzzyTerm):\n",
    "     def __init__(self, fieldname, text, boost=1.0, maxdist=10, prefixlength=1, constantscore=True):\n",
    "         super(FuzzyConfig, self).__init__(fieldname, text, boost, maxdist, prefixlength, constantscore)\n",
    "        \n",
    "def match(idx, query_str, limit=40):\n",
    "    results = []\n",
    "    with idx.searcher() as searcher:\n",
    "        parser = QueryParser('label', idx.schema, termclass=FuzzyConfig)\n",
    "        parser.add_plugin(FuzzyTermPlugin())\n",
    "        query = parser.parse(query_str)\n",
    "        for r in searcher.search(query,limit=limit):\n",
    "            results.append([r['label'], r['rome']])\n",
    "    return results\n",
    "    "
   ]
  },
  {
   "cell_type": "code",
   "execution_count": 26,
   "metadata": {},
   "outputs": [
    {
     "data": {
      "text/html": [
       "<div>\n",
       "<style scoped>\n",
       "    .dataframe tbody tr th:only-of-type {\n",
       "        vertical-align: middle;\n",
       "    }\n",
       "\n",
       "    .dataframe tbody tr th {\n",
       "        vertical-align: top;\n",
       "    }\n",
       "\n",
       "    .dataframe thead th {\n",
       "        text-align: right;\n",
       "    }\n",
       "</style>\n",
       "<table border=\"1\" class=\"dataframe\">\n",
       "  <thead>\n",
       "    <tr style=\"text-align: right;\">\n",
       "      <th></th>\n",
       "      <th>rome</th>\n",
       "      <th>label</th>\n",
       "      <th>source</th>\n",
       "    </tr>\n",
       "  </thead>\n",
       "  <tbody>\n",
       "    <tr>\n",
       "      <th>0</th>\n",
       "      <td>A1298</td>\n",
       "      <td>Sourcier</td>\n",
       "      <td>rome</td>\n",
       "    </tr>\n",
       "    <tr>\n",
       "      <th>1</th>\n",
       "      <td>B9812</td>\n",
       "      <td>Abricotier</td>\n",
       "      <td>arbre</td>\n",
       "    </tr>\n",
       "  </tbody>\n",
       "</table>\n",
       "</div>"
      ],
      "text/plain": [
       "    rome       label source\n",
       "0  A1298    Sourcier   rome\n",
       "1  B9812  Abricotier  arbre"
      ]
     },
     "execution_count": 26,
     "metadata": {},
     "output_type": "execute_result"
    }
   ],
   "source": [
    "import pandas as pd\n",
    "\n",
    "data = [\n",
    "    ['A1298', 'Sourcier', 'rome'],\n",
    "    ['B9812', 'Abricotier', 'arbre'],\n",
    "]\n",
    "df = pd.DataFrame(data, columns=['rome', 'label', 'source'])\n",
    "df"
   ]
  },
  {
   "cell_type": "code",
   "execution_count": 3,
   "metadata": {},
   "outputs": [],
   "source": [
    "idx = createTable('index_dir')"
   ]
  },
  {
   "cell_type": "code",
   "execution_count": 31,
   "metadata": {},
   "outputs": [
    {
     "name": "stdout",
     "output_type": "stream",
     "text": [
      "{'rome': 'A1298', 'label': 'Sourcier', 'source': 'rome'}\n",
      "{'rome': 'B9812', 'label': 'Abricotier', 'source': 'arbre'}\n",
      "done\n"
     ]
    }
   ],
   "source": [
    "writeDataframe(idx, df)"
   ]
  },
  {
   "cell_type": "code",
   "execution_count": 76,
   "metadata": {},
   "outputs": [
    {
     "data": {
      "text/plain": [
       "[['Abricotier', 'B9812'],\n",
       " ['Abricotier', 'B9812'],\n",
       " ['Abricotier', 'B9812'],\n",
       " ['Abricotier', 'B9812'],\n",
       " ['Abricotier', 'B9812']]"
      ]
     },
     "execution_count": 76,
     "metadata": {},
     "output_type": "execute_result"
    }
   ],
   "source": [
    "res = match(get_index(idx), \"abico\")\n",
    "res"
   ]
  }
 ],
 "metadata": {
  "kernelspec": {
   "display_name": "Python 3",
   "language": "python",
   "name": "python3"
  },
  "language_info": {
   "codemirror_mode": {
    "name": "ipython",
    "version": 3
   },
   "file_extension": ".py",
   "mimetype": "text/x-python",
   "name": "python",
   "nbconvert_exporter": "python",
   "pygments_lexer": "ipython3",
   "version": "3.7.5"
  }
 },
 "nbformat": 4,
 "nbformat_minor": 4
}
