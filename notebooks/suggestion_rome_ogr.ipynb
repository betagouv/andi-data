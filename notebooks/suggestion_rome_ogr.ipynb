{
 "cells": [
  {
   "cell_type": "markdown",
   "metadata": {},
   "source": [
    "## Étude suggestion métier vers code rome\n",
    "l'API matching utilisait jusqu'à présent l'API LBB pour la suggestion métier / code rome.\n",
    "\n",
    "Vu le besoin en performances accrus, le moment est venu d'intégrer cette fonctionnalite dans l'API matching. Ce notebook sert de base de travail à cet effet.\n",
    "\n",
    "### Améliorations:\n",
    "- accent folding & nettoyage pour recherche normalisée\n",
    "- drop_duplicates pour éviter les retours mulitples identiques\n",
    "- Ajout score ordre / tri\n",
    "\n",
    "### Notes:\n",
    "Nettoyage INPUT: https://machinelearningmastery.com/clean-text-machine-learning-python/"
   ]
  },
  {
   "cell_type": "code",
   "execution_count": 35,
   "metadata": {},
   "outputs": [
    {
     "name": "stdout",
     "output_type": "stream",
     "text": [
      "Obtained 531 ROME labels\n"
     ]
    },
    {
     "data": {
      "text/html": [
       "<table border=\"1\" class=\"dataframe\">\n",
       "  <thead>\n",
       "    <tr style=\"text-align: right;\">\n",
       "      <th></th>\n",
       "      <th>rome</th>\n",
       "      <th>rome_1</th>\n",
       "      <th>rome_2</th>\n",
       "      <th>rome_3</th>\n",
       "      <th>label</th>\n",
       "      <th>slug</th>\n",
       "    </tr>\n",
       "  </thead>\n",
       "  <tbody>\n",
       "    <tr>\n",
       "      <th>0</th>\n",
       "      <td>A1101</td>\n",
       "      <td>A</td>\n",
       "      <td>11</td>\n",
       "      <td>1</td>\n",
       "      <td>Conduite d'engins agricoles et forestiers</td>\n",
       "      <td>conduite-d-engins-agricoles-et-forestiers</td>\n",
       "    </tr>\n",
       "    <tr>\n",
       "      <th>1</th>\n",
       "      <td>A1201</td>\n",
       "      <td>A</td>\n",
       "      <td>12</td>\n",
       "      <td>1</td>\n",
       "      <td>Bûcheronnage et élagage</td>\n",
       "      <td>bucheronnage-et-elagage</td>\n",
       "    </tr>\n",
       "    <tr>\n",
       "      <th>2</th>\n",
       "      <td>A1202</td>\n",
       "      <td>A</td>\n",
       "      <td>12</td>\n",
       "      <td>2</td>\n",
       "      <td>Entretien des espaces naturels</td>\n",
       "      <td>entretien-des-espaces-naturels</td>\n",
       "    </tr>\n",
       "    <tr>\n",
       "      <th>3</th>\n",
       "      <td>A1203</td>\n",
       "      <td>A</td>\n",
       "      <td>12</td>\n",
       "      <td>3</td>\n",
       "      <td>Entretien des espaces verts</td>\n",
       "      <td>entretien-des-espaces-verts</td>\n",
       "    </tr>\n",
       "    <tr>\n",
       "      <th>4</th>\n",
       "      <td>A1204</td>\n",
       "      <td>A</td>\n",
       "      <td>12</td>\n",
       "      <td>4</td>\n",
       "      <td>Protection du patrimoine naturel</td>\n",
       "      <td>protection-du-patrimoine-naturel</td>\n",
       "    </tr>\n",
       "  </tbody>\n",
       "</table>"
      ],
      "text/plain": [
       "<IPython.core.display.HTML object>"
      ]
     },
     "metadata": {},
     "output_type": "display_data"
    },
    {
     "name": "stdout",
     "output_type": "stream",
     "text": [
      "Obtained 10948 OGR labels\n"
     ]
    },
    {
     "data": {
      "text/html": [
       "<table border=\"1\" class=\"dataframe\">\n",
       "  <thead>\n",
       "    <tr style=\"text-align: right;\">\n",
       "      <th></th>\n",
       "      <th>code</th>\n",
       "      <th>rome_1</th>\n",
       "      <th>rome_2</th>\n",
       "      <th>rome_3</th>\n",
       "      <th>label</th>\n",
       "      <th>rome</th>\n",
       "    </tr>\n",
       "  </thead>\n",
       "  <tbody>\n",
       "    <tr>\n",
       "      <th>0</th>\n",
       "      <td>11987</td>\n",
       "      <td>A</td>\n",
       "      <td>11</td>\n",
       "      <td>1</td>\n",
       "      <td>Chauffeur / Chauffeuse de machines agricoles</td>\n",
       "      <td>A1101</td>\n",
       "    </tr>\n",
       "    <tr>\n",
       "      <th>1</th>\n",
       "      <td>12862</td>\n",
       "      <td>A</td>\n",
       "      <td>11</td>\n",
       "      <td>1</td>\n",
       "      <td>Conducteur / Conductrice d'abatteuses</td>\n",
       "      <td>A1101</td>\n",
       "    </tr>\n",
       "    <tr>\n",
       "      <th>2</th>\n",
       "      <td>38874</td>\n",
       "      <td>A</td>\n",
       "      <td>11</td>\n",
       "      <td>1</td>\n",
       "      <td>Conducteur / Conductrice d'automoteur de récolte</td>\n",
       "      <td>A1101</td>\n",
       "    </tr>\n",
       "    <tr>\n",
       "      <th>3</th>\n",
       "      <td>13232</td>\n",
       "      <td>A</td>\n",
       "      <td>11</td>\n",
       "      <td>1</td>\n",
       "      <td>Conducteur / Conductrice de machines à vendanger</td>\n",
       "      <td>A1101</td>\n",
       "    </tr>\n",
       "    <tr>\n",
       "      <th>4</th>\n",
       "      <td>38878</td>\n",
       "      <td>A</td>\n",
       "      <td>11</td>\n",
       "      <td>1</td>\n",
       "      <td>Conducteur / Conductrice de matériels de semis</td>\n",
       "      <td>A1101</td>\n",
       "    </tr>\n",
       "  </tbody>\n",
       "</table>"
      ],
      "text/plain": [
       "<IPython.core.display.HTML object>"
      ]
     },
     "metadata": {},
     "output_type": "display_data"
    }
   ],
   "source": [
    "## Chargement des labels rome, ogr\n",
    "from IPython.display import display, HTML\n",
    "import pandas as pd\n",
    "import numpy as np\n",
    "\n",
    "# Rome\n",
    "rome_labels = pd.read_csv('../ressources/liste_rome_LBB.csv', sep=',', encoding=\"utf-8\")\n",
    "rome_labels.columns = ['rome', 'rome_1', 'rome_2', 'rome_3', 'label', 'slug']\n",
    "print(f\"Obtained {len(rome_labels)} ROME labels\")\n",
    "display(HTML(rome_labels.head(5).to_html()))\n",
    "\n",
    "# OGR\n",
    "ogr_labels = pd.read_csv('../ressources/list_OGR_LBB.csv', sep=',', encoding=\"utf-8\")\n",
    "ogr_labels.columns = ['code', 'rome_1', 'rome_2', 'rome_3', 'label', 'rome']\n",
    "print(f\"Obtained {len(ogr_labels)} OGR labels\")\n",
    "display(HTML(ogr_labels.head(5).to_html()))\n"
   ]
  },
  {
   "cell_type": "code",
   "execution_count": 59,
   "metadata": {},
   "outputs": [],
   "source": [
    "import string\n",
    "\n",
    "def words_get(raw_query):\n",
    "    # Split\n",
    "    words = raw_query.split()\n",
    "    # Remove punctuation\n",
    "    table = str.maketrans('', '', string.punctuation)\n",
    "    words = [w.translate(table) for w in words]\n",
    "    # Lowercase\n",
    "    words = [word.lower() for word in words]\n",
    "    \n",
    "    return words\n",
    "\n",
    "def result_build(rome, rome_label, rome_slug, ogr_label=None):\n",
    "    if ogr_label:\n",
    "        label = f\"{rome_label} ({ogr_label}, ...)\"\n",
    "    else:\n",
    "        label = rome_label\n",
    "    return {\n",
    "        'id': rome,\n",
    "        'label': label,\n",
    "        'value': label,\n",
    "        'occupation': rome_slug,\n",
    "        'score': 5\n",
    "    }\n",
    "\n",
    "def rome_suggest(query, rome_df, ogr_df):\n",
    "    words = words_get(query)\n",
    "    rome_raw_matches = []\n",
    "    ogr_raw_matches = []\n",
    "    for word in words:\n",
    "        rome_raw_matches.append( rome_df[rome_df['label'].str.contains(word)] )\n",
    "        ogr_raw_matches.append( ogr_df[ogr_df['label'].str.contains(word)] )\n",
    "    rome_matches = pd.concat(rome_raw_matches)\n",
    "    ogr_matches = pd.concat(ogr_raw_matches)\n",
    "    \n",
    "    results = {}\n",
    "    for _i, rome_row in rome_matches.iterrows():\n",
    "        results[rome_row['rome']] = result_build(\n",
    "            rome_row['rome'],\n",
    "            rome_row['label'],\n",
    "            rome_row['slug']\n",
    "        )\n",
    "        \n",
    "    for _i, ogr_row in ogr_matches.iterrows():\n",
    "        rome = ogr_row['rome']\n",
    "        ogr_romes = rome_df[rome_df['rome'] == rome]\n",
    "        for _j, rome_row in ogr_romes.iterrows():\n",
    "            results[rome] = result_build(\n",
    "                rome,\n",
    "                rome_row['label'],\n",
    "                rome_row['slug'],\n",
    "                ogr_row['label']\n",
    "            )\n",
    "    return list(results.values())\n",
    "    "
   ]
  },
  {
   "cell_type": "code",
   "execution_count": 61,
   "metadata": {},
   "outputs": [
    {
     "data": {
      "text/plain": [
       "[{'id': 'N1101',\n",
       "  'label': \"Conduite d'engins de déplacement des charges (Chef cariste, ...)\",\n",
       "  'value': \"Conduite d'engins de déplacement des charges (Chef cariste, ...)\",\n",
       "  'occupation': 'conduite-d-engins-de-deplacement-des-charges',\n",
       "  'score': 5},\n",
       " {'id': 'N1103',\n",
       "  'label': 'Magasinage et préparation de commandes (Magasinier / Magasinière cariste, ...)',\n",
       "  'value': 'Magasinage et préparation de commandes (Magasinier / Magasinière cariste, ...)',\n",
       "  'occupation': 'magasinage-et-preparation-de-commandes',\n",
       "  'score': 5}]"
      ]
     },
     "execution_count": 61,
     "metadata": {},
     "output_type": "execute_result"
    }
   ],
   "source": [
    "\n",
    "rome_suggest(\"cariste\", rome_labels, ogr_labels)"
   ]
  },
  {
   "cell_type": "code",
   "execution_count": 49,
   "metadata": {},
   "outputs": [
    {
     "data": {
      "text/plain": [
       "[{'code': 'N1101',\n",
       "  'label': \"Conduite d'engins de déplacement des charges (Agent / Agente cariste de livraison ferroviaire, ...)\"},\n",
       " {'code': 'N1101',\n",
       "  'label': \"Conduite d'engins de déplacement des charges (Chef cariste, ...)\"},\n",
       " {'code': 'N1103',\n",
       "  'label': 'Magasinage et préparation de commandes (Magasinier / Magasinière cariste, ...)'}]"
      ]
     },
     "execution_count": 49,
     "metadata": {},
     "output_type": "execute_result"
    }
   ],
   "source": [
    "query=\"cariste\"\n",
    "q=f'.*{query}.*'\n",
    "\n",
    "res = ogr_labels[ogr_labels['label'].str.contains(query)]\n",
    "results = []\n",
    "for index, row in res.iterrows():\n",
    "    rome = row['rome']\n",
    "    label = row['label']\n",
    "    romes = rome_labels[rome_labels['rome'] == rome]\n",
    "    for index, rome_row in romes.iterrows():\n",
    "        results.append({\n",
    "            'code': rome,\n",
    "            'label': f\"{rome_row['label']} ({label}, ...)\"\n",
    "        })\n",
    "results"
   ]
  }
 ],
 "metadata": {
  "kernelspec": {
   "display_name": "Python 3",
   "language": "python",
   "name": "python3"
  },
  "language_info": {
   "codemirror_mode": {
    "name": "ipython",
    "version": 3
   },
   "file_extension": ".py",
   "mimetype": "text/x-python",
   "name": "python",
   "nbconvert_exporter": "python",
   "pygments_lexer": "ipython3",
   "version": "3.7.5"
  }
 },
 "nbformat": 4,
 "nbformat_minor": 2
}
