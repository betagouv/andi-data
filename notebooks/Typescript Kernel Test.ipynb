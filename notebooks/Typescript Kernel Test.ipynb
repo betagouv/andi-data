{
 "cells": [
  {
   "cell_type": "code",
   "execution_count": 7,
   "metadata": {},
   "outputs": [
    {
     "data": {
      "text/plain": [
       "undefined"
      ]
     },
     "execution_count": 7,
     "metadata": {},
     "output_type": "execute_result"
    }
   ],
   "source": [
    "// Etat de la \n",
    "let state = {\n",
    "\t'a': 4,\n",
    "  'b': 5\n",
    "};\n",
    "\n",
    "let list = [\n",
    "  ['q_1', {key:'a', val:3}],\n",
    "  ['q_2', {key:'a', val:4}]\n",
    "];\n"
   ]
  },
  {
   "cell_type": "code",
   "execution_count": 10,
   "metadata": {},
   "outputs": [
    {
     "ename": "Error",
     "evalue": "Conflict with a committed line: \nfunction get_next(list, state) {\n_________^\nTS2393: Duplicate function implementation.\n\nLine 1, Character 10\nfunction get_next(list, state) {\n_________^\nTS2393: Duplicate function implementation.",
     "output_type": "error",
     "traceback": [
      "Error: Conflict with a committed line: ",
      "function get_next(list, state) {",
      "_________^",
      "TS2393: Duplicate function implementation.",
      "",
      "Line 1, Character 10",
      "function get_next(list, state) {",
      "_________^",
      "TS2393: Duplicate function implementation.",
      "    at execTranspile (/usr/local/lib/node_modules/itypescript/lib/kernel.js:203:27)",
      "    at Session.transpiler [as transpile] (/usr/local/lib/node_modules/itypescript/lib/kernel.js:263:37)",
      "    at Session._runNow (/usr/local/lib/node_modules/itypescript/node_modules/nel/lib/nel.js:796:39)",
      "    at Session._run (/usr/local/lib/node_modules/itypescript/node_modules/nel/lib/nel.js:766:14)",
      "    at Session.execute (/usr/local/lib/node_modules/itypescript/node_modules/nel/lib/nel.js:890:10)",
      "    at Kernel.execute_request (/usr/local/lib/node_modules/itypescript/node_modules/jp-kernel/lib/handlers_v5.js:116:18)",
      "    at Kernel.onShellMessage (/usr/local/lib/node_modules/itypescript/node_modules/jp-kernel/lib/jp-kernel.js:285:41)",
      "    at Socket.<anonymous> (/usr/local/lib/node_modules/itypescript/node_modules/jmp/index.js:350:17)",
      "    at Socket.emit (events.js:198:13)",
      "    at Socket._emitMessage (/usr/local/lib/node_modules/itypescript/node_modules/zeromq/lib/index.js:640:15)"
     ]
    }
   ],
   "source": [
    "function get_next(list, state) {\n",
    "  let out = undefined;\n",
    "  \n",
    "  list.forEach((opt) => {\n",
    "    console.log(opt)\n",
    "    let next = opt[0];\n",
    "    let cond = opt[1];\n",
    "    if (state[cond.key] == cond.val) {\n",
    "        out = next;\n",
    "    }\n",
    "  })\n",
    "  return out;\n",
    "}"
   ]
  },
  {
   "cell_type": "code",
   "execution_count": 9,
   "metadata": {},
   "outputs": [
    {
     "ename": "Error",
     "evalue": "Line 1, Character 22\nget_next(list, state));\n_____________________^\nTS1005: ';' expected.",
     "output_type": "error",
     "traceback": [
      "Error: Line 1, Character 22",
      "get_next(list, state));",
      "_____________________^",
      "TS1005: ';' expected.",
      "    at execTranspile (/usr/local/lib/node_modules/itypescript/lib/kernel.js:203:27)",
      "    at Session.transpiler [as transpile] (/usr/local/lib/node_modules/itypescript/lib/kernel.js:263:37)",
      "    at Session._runNow (/usr/local/lib/node_modules/itypescript/node_modules/nel/lib/nel.js:796:39)",
      "    at Session._run (/usr/local/lib/node_modules/itypescript/node_modules/nel/lib/nel.js:766:14)",
      "    at Session.execute (/usr/local/lib/node_modules/itypescript/node_modules/nel/lib/nel.js:890:10)",
      "    at Kernel.execute_request (/usr/local/lib/node_modules/itypescript/node_modules/jp-kernel/lib/handlers_v5.js:116:18)",
      "    at Kernel.onShellMessage (/usr/local/lib/node_modules/itypescript/node_modules/jp-kernel/lib/jp-kernel.js:285:41)",
      "    at Socket.<anonymous> (/usr/local/lib/node_modules/itypescript/node_modules/jmp/index.js:350:17)",
      "    at Socket.emit (events.js:198:13)",
      "    at Socket._emitMessage (/usr/local/lib/node_modules/itypescript/node_modules/zeromq/lib/index.js:640:15)"
     ]
    }
   ],
   "source": [
    "get_next(list, state));"
   ]
  }
 ],
 "metadata": {
  "kernelspec": {
   "display_name": "Typescript 3.7",
   "language": "typescript",
   "name": "typescript"
  },
  "language_info": {
   "file_extension": ".ts",
   "mimetype": "application/x-typescript",
   "name": "typescript",
   "version": "3.7.5"
  }
 },
 "nbformat": 4,
 "nbformat_minor": 4
}
